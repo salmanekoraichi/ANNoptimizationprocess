{
 "cells": [
  {
   "cell_type": "code",
   "execution_count": 13,
   "metadata": {},
   "outputs": [
    {
     "name": "stdout",
     "output_type": "stream",
     "text": [
      "['Ant', 'Colony', 'Solution', 'Solver', 'SolverPlugin', '__author__', '__builtins__', '__cached__', '__doc__', '__email__', '__file__', '__loader__', '__name__', '__package__', '__path__', '__spec__', '__version__', 'ant', 'plugins', 'solvers', 'utils']\n"
     ]
    }
   ],
   "source": [
    "import acopy\n",
    "print(dir(acopy))\n"
   ]
  },
  {
   "cell_type": "code",
   "execution_count": 12,
   "metadata": {},
   "outputs": [
    {
     "name": "stdout",
     "output_type": "stream",
     "text": [
      "Name: acopy\n",
      "Version: 0.7.0\n",
      "Summary: Ant Colony Optimization for Tthe Traveling Salesman Problem.\n",
      "Home-page: https://github.com/rhgrant10/acopy\n",
      "Author: Robert Grant\n",
      "Author-email: rhgrant10@gmail.com\n",
      "License: Apache Software License 2.0\n",
      "Location: c:\\users\\yoga\\appdata\\local\\programs\\python\\python39\\lib\\site-packages\n",
      "Requires: click, networkx, tsplib95\n",
      "Required-by: \n",
      "Note: you may need to restart the kernel to use updated packages.\n"
     ]
    }
   ],
   "source": [
    "pip show acopy\n"
   ]
  },
  {
   "cell_type": "code",
   "execution_count": 11,
   "metadata": {},
   "outputs": [
    {
     "ename": "AttributeError",
     "evalue": "module 'acopy' has no attribute 'Graph'",
     "output_type": "error",
     "traceback": [
      "\u001b[1;31m---------------------------------------------------------------------------\u001b[0m",
      "\u001b[1;31mAttributeError\u001b[0m                            Traceback (most recent call last)",
      "Cell \u001b[1;32mIn[11], line 3\u001b[0m\n\u001b[0;32m      1\u001b[0m colony \u001b[38;5;241m=\u001b[39m acopy\u001b[38;5;241m.\u001b[39mColony()\n\u001b[0;32m      2\u001b[0m solver \u001b[38;5;241m=\u001b[39m acopy\u001b[38;5;241m.\u001b[39mSolver()\n\u001b[1;32m----> 3\u001b[0m graph \u001b[38;5;241m=\u001b[39m \u001b[43macopy\u001b[49m\u001b[38;5;241;43m.\u001b[39;49m\u001b[43mGraph\u001b[49m()\n",
      "\u001b[1;31mAttributeError\u001b[0m: module 'acopy' has no attribute 'Graph'"
     ]
    }
   ],
   "source": [
    "colony = acopy.Colony()\n",
    "solver = acopy.Solver()\n",
    "graph = acopy.Graph()\n"
   ]
  },
  {
   "cell_type": "code",
   "execution_count": 6,
   "metadata": {},
   "outputs": [
    {
     "name": "stdout",
     "output_type": "stream",
     "text": [
      "Requirement already satisfied: acopy in c:\\users\\yoga\\appdata\\local\\programs\\python\\python39\\lib\\site-packages (0.7.0)\n",
      "Requirement already satisfied: click~=7.1 in c:\\users\\yoga\\appdata\\local\\programs\\python\\python39\\lib\\site-packages (from acopy) (7.1.2)\n",
      "Requirement already satisfied: networkx~=2.4 in c:\\users\\yoga\\appdata\\local\\programs\\python\\python39\\lib\\site-packages (from acopy) (2.8.8)\n",
      "Requirement already satisfied: tsplib95~=0.7.0 in c:\\users\\yoga\\appdata\\local\\programs\\python\\python39\\lib\\site-packages (from acopy) (0.7.1)\n",
      "Requirement already satisfied: Deprecated~=1.2.9 in c:\\users\\yoga\\appdata\\local\\programs\\python\\python39\\lib\\site-packages (from tsplib95~=0.7.0->acopy) (1.2.14)\n",
      "Requirement already satisfied: tabulate~=0.8.7 in c:\\users\\yoga\\appdata\\local\\programs\\python\\python39\\lib\\site-packages (from tsplib95~=0.7.0->acopy) (0.8.10)\n",
      "Requirement already satisfied: wrapt<2,>=1.10 in c:\\users\\yoga\\appdata\\local\\programs\\python\\python39\\lib\\site-packages (from Deprecated~=1.2.9->tsplib95~=0.7.0->acopy) (1.14.1)\n",
      "Note: you may need to restart the kernel to use updated packages.\n"
     ]
    },
    {
     "name": "stderr",
     "output_type": "stream",
     "text": [
      "\n",
      "[notice] A new release of pip is available: 24.2 -> 24.3.1\n",
      "[notice] To update, run: python.exe -m pip install --upgrade pip\n"
     ]
    }
   ],
   "source": [
    "pip install acopy\n"
   ]
  },
  {
   "cell_type": "code",
   "execution_count": 8,
   "metadata": {},
   "outputs": [
    {
     "ename": "ImportError",
     "evalue": "cannot import name 'AntColony' from 'acopy' (c:\\Users\\Yoga\\AppData\\Local\\Programs\\Python\\Python39\\lib\\site-packages\\acopy\\__init__.py)",
     "output_type": "error",
     "traceback": [
      "\u001b[1;31m---------------------------------------------------------------------------\u001b[0m",
      "\u001b[1;31mImportError\u001b[0m                               Traceback (most recent call last)",
      "Cell \u001b[1;32mIn[8], line 12\u001b[0m\n\u001b[0;32m      9\u001b[0m \u001b[38;5;28;01mfrom\u001b[39;00m \u001b[38;5;21;01mtensorflow\u001b[39;00m\u001b[38;5;21;01m.\u001b[39;00m\u001b[38;5;21;01mkeras\u001b[39;00m\u001b[38;5;21;01m.\u001b[39;00m\u001b[38;5;21;01mlayers\u001b[39;00m \u001b[38;5;28;01mimport\u001b[39;00m Dense\n\u001b[0;32m     11\u001b[0m \u001b[38;5;66;03m# For Ant Colony Optimization\u001b[39;00m\n\u001b[1;32m---> 12\u001b[0m \u001b[38;5;28;01mfrom\u001b[39;00m \u001b[38;5;21;01macopy\u001b[39;00m \u001b[38;5;28;01mimport\u001b[39;00m Ant, AntColony, Graph\n",
      "\u001b[1;31mImportError\u001b[0m: cannot import name 'AntColony' from 'acopy' (c:\\Users\\Yoga\\AppData\\Local\\Programs\\Python\\Python39\\lib\\site-packages\\acopy\\__init__.py)"
     ]
    }
   ],
   "source": [
    "import numpy as np\n",
    "import pandas as pd\n",
    "import matplotlib.pyplot as plt\n",
    "import seaborn as sns\n",
    "\n",
    "# For neural networks\n",
    "import tensorflow as tf\n",
    "from tensorflow.keras.models import Sequential\n",
    "from tensorflow.keras.layers import Dense\n",
    "\n",
    "# For Ant Colony Optimization\n",
    "from acopy import Ant, AntColony, Graph\n"
   ]
  },
  {
   "cell_type": "code",
   "execution_count": null,
   "metadata": {},
   "outputs": [],
   "source": [
    "np.random.seed(42)\n",
    "tf.random.set_seed(42)\n"
   ]
  },
  {
   "cell_type": "code",
   "execution_count": null,
   "metadata": {},
   "outputs": [],
   "source": [
    "# Parameter ranges\n",
    "T_min, T_max = 50, 150          # Temperature in °C\n",
    "P_min, P_max = 1, 10            # Pressure in atm\n",
    "C_A_min, C_A_max = 0.1, 1.0     # Concentration of A in mol/L\n",
    "C_B_min, C_B_max = 0.1, 1.0     # Concentration of B in mol/L\n",
    "S_min, S_max = 100, 500         # Agitation Speed in rpm\n"
   ]
  },
  {
   "cell_type": "code",
   "execution_count": null,
   "metadata": {},
   "outputs": [],
   "source": [
    "# Number of samples\n",
    "n_samples = 1000\n",
    "\n",
    "# Generate random samples within the parameter ranges\n",
    "T = np.random.uniform(T_min, T_max, n_samples)\n",
    "P = np.random.uniform(P_min, P_max, n_samples)\n",
    "C_A = np.random.uniform(C_A_min, C_A_max, n_samples)\n",
    "C_B = np.random.uniform(C_B_min, C_B_max, n_samples)\n",
    "S = np.random.uniform(S_min, S_max, n_samples)\n",
    "\n",
    "# Simulate yield based on a synthetic function\n",
    "# The function includes nonlinear interactions and noise\n",
    "def simulate_yield(T, P, C_A, C_B, S):\n",
    "    # Convert temperature to Kelvin\n",
    "    T_K = T + 273.15\n",
    "    # Simulated yield function\n",
    "    yield_percent = (\n",
    "        (C_A * C_B * np.exp(-5000 / T_K)) * \n",
    "        (1 + 0.1 * np.sin(P)) * \n",
    "        (1 + 0.05 * np.log(S)) +\n",
    "        np.random.normal(0, 0.5, len(T))\n",
    "    )\n",
    "    # Ensure yield is between 0% and 100%\n",
    "    yield_percent = np.clip(yield_percent, 0, 100)\n",
    "    return yield_percent\n",
    "\n",
    "# Calculate yield\n",
    "Yield = simulate_yield(T, P, C_A, C_B, S)\n"
   ]
  },
  {
   "cell_type": "code",
   "execution_count": null,
   "metadata": {},
   "outputs": [],
   "source": [
    "# Create a DataFrame\n",
    "data = pd.DataFrame({\n",
    "    'Temperature': T,\n",
    "    'Pressure': P,\n",
    "    'Concentration_A': C_A,\n",
    "    'Concentration_B': C_B,\n",
    "    'Agitation_Speed': S,\n",
    "    'Yield': Yield\n",
    "})\n",
    "\n",
    "# Display first few rows\n",
    "print(data.head())\n"
   ]
  },
  {
   "cell_type": "code",
   "execution_count": null,
   "metadata": {},
   "outputs": [],
   "source": [
    "# Summary statistics\n",
    "print(data.describe())\n"
   ]
  },
  {
   "cell_type": "code",
   "execution_count": null,
   "metadata": {},
   "outputs": [],
   "source": [
    "# Compute correlation matrix\n",
    "corr_matrix = data.corr()\n",
    "\n",
    "# Plot heatmap\n",
    "plt.figure(figsize=(8, 6))\n",
    "sns.heatmap(corr_matrix, annot=True, cmap='coolwarm')\n",
    "plt.title('Correlation Matrix')\n",
    "plt.show()\n"
   ]
  },
  {
   "cell_type": "code",
   "execution_count": null,
   "metadata": {},
   "outputs": [],
   "source": [
    "# Pairplot to visualize relationships\n",
    "sns.pairplot(data, diag_kind='kde')\n",
    "plt.show()\n"
   ]
  },
  {
   "cell_type": "code",
   "execution_count": null,
   "metadata": {},
   "outputs": [],
   "source": [
    "from sklearn.model_selection import train_test_split\n",
    "from sklearn.preprocessing import MinMaxScaler\n",
    "\n",
    "# Features and target variable\n",
    "X = data.drop('Yield', axis=1)\n",
    "y = data['Yield']\n",
    "\n",
    "# Split into training and testing sets\n",
    "X_train, X_test, y_train, y_test = train_test_split(\n",
    "    X, y, test_size=0.2, random_state=42\n",
    ")\n",
    "\n",
    "# Feature scaling using MinMaxScaler\n",
    "scaler = MinMaxScaler()\n",
    "X_train_scaled = scaler.fit_transform(X_train)\n",
    "X_test_scaled = scaler.transform(X_test)\n"
   ]
  },
  {
   "cell_type": "code",
   "execution_count": null,
   "metadata": {},
   "outputs": [],
   "source": [
    "# Build the neural network\n",
    "model = Sequential([\n",
    "    Dense(64, activation='relu', input_shape=(X_train_scaled.shape[1],)),\n",
    "    Dense(128, activation='relu'),\n",
    "    Dense(64, activation='relu'),\n",
    "    Dense(1, activation='linear')\n",
    "])\n",
    "\n",
    "# Compile the model\n",
    "model.compile(optimizer='adam', loss='mean_squared_error')\n"
   ]
  },
  {
   "cell_type": "code",
   "execution_count": null,
   "metadata": {},
   "outputs": [],
   "source": [
    "# Train the model\n",
    "history = model.fit(\n",
    "    X_train_scaled, y_train,\n",
    "    validation_split=0.2,\n",
    "    epochs=100,\n",
    "    batch_size=32,\n",
    "    verbose=1\n",
    ")\n"
   ]
  },
  {
   "cell_type": "code",
   "execution_count": null,
   "metadata": {},
   "outputs": [],
   "source": [
    "# Plot loss over epochs\n",
    "plt.figure(figsize=(8, 6))\n",
    "plt.plot(history.history['loss'], label='Training Loss')\n",
    "plt.plot(history.history['val_loss'], label='Validation Loss')\n",
    "plt.legend()\n",
    "plt.xlabel('Epochs')\n",
    "plt.ylabel('Loss')\n",
    "plt.title('Training History')\n",
    "plt.show()\n"
   ]
  },
  {
   "cell_type": "code",
   "execution_count": null,
   "metadata": {},
   "outputs": [],
   "source": [
    "# Evaluate on test data\n",
    "test_loss = model.evaluate(X_test_scaled, y_test, verbose=0)\n",
    "print(f'Test MSE: {test_loss:.4f}')\n"
   ]
  },
  {
   "cell_type": "code",
   "execution_count": null,
   "metadata": {},
   "outputs": [],
   "source": [
    "# Predict on test data\n",
    "y_pred = model.predict(X_test_scaled)\n"
   ]
  },
  {
   "cell_type": "code",
   "execution_count": null,
   "metadata": {},
   "outputs": [],
   "source": [
    "# Scatter plot of actual vs predicted values\n",
    "plt.figure(figsize=(8, 6))\n",
    "plt.scatter(y_test, y_pred, alpha=0.7)\n",
    "plt.xlabel('Actual Yield')\n",
    "plt.ylabel('Predicted Yield')\n",
    "plt.title('Actual vs Predicted Yield')\n",
    "# Line showing perfect predictions\n",
    "plt.plot([y_test.min(), y_test.max()], [y_test.min(), y_test.max()], 'k--', lw=2)\n",
    "plt.show()\n"
   ]
  },
  {
   "cell_type": "code",
   "execution_count": null,
   "metadata": {},
   "outputs": [],
   "source": [
    "# Define bounds for each parameter\n",
    "bounds = {\n",
    "    'Temperature': (T_min, T_max),\n",
    "    'Pressure': (P_min, P_max),\n",
    "    'Concentration_A': (C_A_min, C_A_max),\n",
    "    'Concentration_B': (C_B_min, C_B_max),\n",
    "    'Agitation_Speed': (S_min, S_max)\n",
    "}\n"
   ]
  },
  {
   "cell_type": "code",
   "execution_count": null,
   "metadata": {},
   "outputs": [],
   "source": [
    "def objective_function(params):\n",
    "    # Convert params dict to array\n",
    "    param_values = np.array([\n",
    "        params['Temperature'],\n",
    "        params['Pressure'],\n",
    "        params['Concentration_A'],\n",
    "        params['Concentration_B'],\n",
    "        params['Agitation_Speed']\n",
    "    ]).reshape(1, -1)\n",
    "    \n",
    "    # Scale the parameters\n",
    "    param_values_scaled = scaler.transform(param_values)\n",
    "    \n",
    "    # Predict yield using the neural network\n",
    "    predicted_yield = model.predict(param_values_scaled)[0][0]\n",
    "    \n",
    "    # Since ACO minimizes the objective, we return the negative yield\n",
    "    return -predicted_yield\n"
   ]
  },
  {
   "cell_type": "code",
   "execution_count": null,
   "metadata": {},
   "outputs": [],
   "source": [
    "from scipy.optimize import differential_evolution\n",
    "\n",
    "# Define bounds in the format required by differential_evolution\n",
    "bounds_list = [\n",
    "    (T_min, T_max),          # Temperature\n",
    "    (P_min, P_max),          # Pressure\n",
    "    (C_A_min, C_A_max),      # Concentration A\n",
    "    (C_B_min, C_B_max),      # Concentration B\n",
    "    (S_min, S_max)           # Agitation Speed\n",
    "]\n",
    "\n",
    "# Objective function for differential evolution\n",
    "def de_objective(x):\n",
    "    params = {\n",
    "        'Temperature': x[0],\n",
    "        'Pressure': x[1],\n",
    "        'Concentration_A': x[2],\n",
    "        'Concentration_B': x[3],\n",
    "        'Agitation_Speed': x[4]\n",
    "    }\n",
    "    return objective_function(params)\n",
    "\n",
    "# Run the optimization\n",
    "result = differential_evolution(\n",
    "    de_objective,\n",
    "    bounds_list,\n",
    "    strategy='best1bin',\n",
    "    maxiter=100,\n",
    "    popsize=15,\n",
    "    tol=1e-6,\n",
    "    mutation=(0.5, 1),\n",
    "    recombination=0.7,\n",
    "    seed=42\n",
    ")\n",
    "\n",
    "# Optimal parameters\n",
    "optimal_params = result.x\n",
    "optimal_yield = -result.fun\n",
    "\n",
    "print('Optimal Parameters:')\n",
    "print(f'Temperature: {optimal_params[0]:.2f} °C')\n",
    "print(f'Pressure: {optimal_params[1]:.2f} atm')\n",
    "print(f'Concentration_A: {optimal_params[2]:.2f} mol/L')\n",
    "print(f'Concentration_B: {optimal_params[3]:.2f} mol/L')\n",
    "print(f'Agitation_Speed: {optimal_params[4]:.2f} rpm')\n",
    "print(f'Predicted Maximum Yield: {optimal_yield:.2f}%')\n"
   ]
  },
  {
   "cell_type": "code",
   "execution_count": null,
   "metadata": {},
   "outputs": [],
   "source": [
    "# Maximum yield in the initial dataset\n",
    "max_initial_yield = data['Yield'].max()\n",
    "print(f'Maximum Yield in Initial Data: {max_initial_yield:.2f}%\")\n"
   ]
  },
  {
   "cell_type": "code",
   "execution_count": null,
   "metadata": {},
   "outputs": [],
   "source": [
    "# Convergence plot\n",
    "plt.figure(figsize=(8, 6))\n",
    "plt.plot(result.convergence)\n",
    "plt.xlabel('Iterations')\n",
    "plt.ylabel('Objective Function Value')\n",
    "plt.title('Optimization Convergence')\n",
    "plt.show()\n"
   ]
  }
 ],
 "metadata": {
  "kernelspec": {
   "display_name": "Python 3",
   "language": "python",
   "name": "python3"
  },
  "language_info": {
   "codemirror_mode": {
    "name": "ipython",
    "version": 3
   },
   "file_extension": ".py",
   "mimetype": "text/x-python",
   "name": "python",
   "nbconvert_exporter": "python",
   "pygments_lexer": "ipython3",
   "version": "3.9.0"
  }
 },
 "nbformat": 4,
 "nbformat_minor": 2
}
